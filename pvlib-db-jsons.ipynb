{
 "cells": [
  {
   "cell_type": "markdown",
   "metadata": {},
   "source": [
    "### Import modules"
   ]
  },
  {
   "cell_type": "code",
   "execution_count": 1,
   "metadata": {},
   "outputs": [],
   "source": [
    "import json\n",
    "import pandas as pd\n",
    "import pvlib as pvl"
   ]
  },
  {
   "cell_type": "markdown",
   "metadata": {},
   "source": [
    "### import the dataset from the databases"
   ]
  },
  {
   "cell_type": "code",
   "execution_count": 2,
   "metadata": {},
   "outputs": [
    {
     "name": "stderr",
     "output_type": "stream",
     "text": [
      "D:\\Anaconda\\envs\\p_py37\\lib\\site-packages\\pvlib\\pvsystem.py:1578: UserWarning: Original names contain 12 duplicate(s).\n",
      "  warnings.warn('Original names contain %d duplicate(s).' % n_duplicates)\n",
      "D:\\Anaconda\\envs\\p_py37\\lib\\site-packages\\pvlib\\pvsystem.py:1583: UserWarning: Normalized names contain 12 duplicate(s).\n",
      "  'Normalized names contain %d duplicate(s).' % n_duplicates)\n"
     ]
    }
   ],
   "source": [
    "cec_inv = pvl.pvsystem.retrieve_sam('CECInverter')\n",
    "cec_mod = pvl.pvsystem.retrieve_sam('CECMod')\n",
    "sandia_mod = pvl.pvsystem.retrieve_sam('SandiaMod')\n",
    "adr_inv = pvl.pvsystem.retrieve_sam('ADRInverter')\n",
    "invdblist = ['cec_inv', 'adr_inv']\n",
    "moddblist = ['cec_mod', 'sandia_mod']"
   ]
  },
  {
   "cell_type": "markdown",
   "metadata": {},
   "source": [
    "### search the databases for name entrys, write those in a dict"
   ]
  },
  {
   "cell_type": "code",
   "execution_count": 3,
   "metadata": {},
   "outputs": [],
   "source": [
    "# Inverters\n",
    "inv_dict = {}\n",
    "inv_dict['cec'] = {}\n",
    "indices = [i for i, s in enumerate(list(cec_inv.columns)) if 'sma' in s.lower()]\n",
    "inv_dict['cec']['sma'] = [list(cec_inv.columns)[i] for i in indices]\n",
    "indices = [i for i, s in enumerate(list(cec_inv.columns)) if 'danfoss' in s.lower()]\n",
    "inv_dict['cec']['danfoss'] = [list(cec_inv.columns)[i] for i in indices]\n",
    "inv_dict['adr'] = {}\n",
    "indices = [i for i, s in enumerate(list(adr_inv.columns)) if 'sma' in s.lower()]\n",
    "inv_dict['adr']['sma'] = [list(adr_inv.columns)[i] for i in indices]\n",
    "indices = [i for i, s in enumerate(list(adr_inv.columns)) if 'danfoss' in s.lower()]\n",
    "inv_dict['adr']['danfoss'] = [list(adr_inv.columns)[i] for i in indices]"
   ]
  },
  {
   "cell_type": "code",
   "execution_count": 4,
   "metadata": {
    "scrolled": false
   },
   "outputs": [],
   "source": [
    "# Modules\n",
    "mod_dict = {}\n",
    "mod_dict['cec'] = {}\n",
    "indices = [i for i, s in enumerate(list(cec_mod.columns)) if 'aleo' in s.lower()]\n",
    "mod_dict['cec']['aleo'] = [list(cec_mod.columns)[i] for i in indices]\n",
    "indices = [i for i, s in enumerate(list(cec_mod.columns)) if 'schott' in s.lower()]\n",
    "mod_dict['cec']['schott'] = [list(cec_mod.columns)[i] for i in indices]\n",
    "mod_dict['sandia'] = {}\n",
    "indices = [i for i, s in enumerate(list(sandia_mod.columns)) if 'aleo' in s.lower()]\n",
    "mod_dict['sandia']['aleo'] = [list(sandia_mod.columns)[i] for i in indices]\n",
    "indices = [i for i, s in enumerate(list(sandia_mod.columns)) if 'schott' in s.lower()]\n",
    "mod_dict['sandia']['schott'] = [list(sandia_mod.columns)[i] for i in indices]"
   ]
  },
  {
   "cell_type": "markdown",
   "metadata": {},
   "source": [
    "### save dicts as jsons"
   ]
  },
  {
   "cell_type": "code",
   "execution_count": 5,
   "metadata": {},
   "outputs": [],
   "source": [
    "with open('inverters.json', 'w') as fp:\n",
    "    json.dump(inv_dict, fp, sort_keys=True, indent=4)\n",
    "    \n",
    "with open('modules.json', 'w') as fp:\n",
    "    json.dump(mod_dict, fp, sort_keys=True, indent=4)"
   ]
  },
  {
   "cell_type": "code",
   "execution_count": null,
   "metadata": {},
   "outputs": [],
   "source": []
  },
  {
   "cell_type": "code",
   "execution_count": null,
   "metadata": {},
   "outputs": [],
   "source": []
  }
 ],
 "metadata": {
  "kernelspec": {
   "display_name": "Python 3",
   "language": "python",
   "name": "python3"
  },
  "language_info": {
   "codemirror_mode": {
    "name": "ipython",
    "version": 3
   },
   "file_extension": ".py",
   "mimetype": "text/x-python",
   "name": "python",
   "nbconvert_exporter": "python",
   "pygments_lexer": "ipython3",
   "version": "3.7.7"
  }
 },
 "nbformat": 4,
 "nbformat_minor": 4
}
