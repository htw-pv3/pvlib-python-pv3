{
 "cells": [
  {
   "cell_type": "markdown",
   "metadata": {},
   "source": [
    "# PV3 PVLIB technology database (modules and inverters)\n",
    "\n",
    "<img src=\"https://avatars.githubusercontent.com/u/64144501?s=200&v=4\" width=\"100\" style=\"float: right\">\n",
    "\n",
    "__copyright__ \t= \"© Reiner Lemoine Institut\" <br>\n",
    "__license__ \t= \"GNU Affero General Public License Version 3 (AGPL-3.0)\" <br>\n",
    "__url__ \t\t= \"https://www.gnu.org/licenses/agpl-3.0.en.html\" <br>\n",
    "__author__ \t\t= \"Julian Endres, Ludwig Hülk\" <br>"
   ]
  },
  {
   "cell_type": "markdown",
   "metadata": {},
   "source": [
    "## Documentation\n",
    "\n",
    "https://pvlib-python.readthedocs.io/en/stable/generated/pvlib.pvsystem.retrieve_sam.html <br>\n",
    "https://sam.nrel.gov/photovoltaic/pv-publications"
   ]
  },
  {
   "cell_type": "markdown",
   "metadata": {},
   "source": [
    "### Imports"
   ]
  },
  {
   "cell_type": "code",
   "execution_count": 1,
   "metadata": {},
   "outputs": [],
   "source": [
    "import json\n",
    "import pandas as pd\n",
    "import pvlib\n",
    "from pvlib import pvsystem"
   ]
  },
  {
   "cell_type": "markdown",
   "metadata": {},
   "source": [
    "### Retrieve SAM dataset"
   ]
  },
  {
   "cell_type": "code",
   "execution_count": 2,
   "metadata": {},
   "outputs": [
    {
     "name": "stderr",
     "output_type": "stream",
     "text": [
      "E:\\Software\\Anaconda\\envs\\d_py38_vis\\lib\\site-packages\\pvlib\\pvsystem.py:1477: UserWarning: Original names contain 12 duplicate(s).\n",
      "  warnings.warn('Original names contain %d duplicate(s).' % n_duplicates)\n",
      "E:\\Software\\Anaconda\\envs\\d_py38_vis\\lib\\site-packages\\pvlib\\pvsystem.py:1481: UserWarning: Normalized names contain 12 duplicate(s).\n",
      "  warnings.warn(\n"
     ]
    }
   ],
   "source": [
    "sam_cec_inv = pvlib.pvsystem.retrieve_sam('CECInverter')\n",
    "sam_adr_inv = pvlib.pvsystem.retrieve_sam('ADRInverter')\n",
    "sam_inv_list = ['sam_cec_inv', 'sam_adr_inv']\n",
    "\n",
    "sam_cec_mod = pvlib.pvsystem.retrieve_sam('CECMod')\n",
    "sam_sandia_mod = pvlib.pvsystem.retrieve_sam('SandiaMod')\n",
    "sam_mod_list = ['sam_cec_mod', 'sam_sandia_mod']"
   ]
  },
  {
   "cell_type": "markdown",
   "metadata": {},
   "source": [
    "### Query for manufacturer"
   ]
  },
  {
   "cell_type": "code",
   "execution_count": 3,
   "metadata": {},
   "outputs": [],
   "source": [
    "# Inverters\n",
    "sam_inv_dict = {}\n",
    "sam_inv_dict['cec'] = {}\n",
    "sam_inv_dict['adr'] = {}\n",
    "\n",
    "indices = [i for i, s in enumerate(list(sam_cec_inv.columns)) if 'sma' in s.lower()]\n",
    "sam_inv_dict['cec']['sma'] = [list(sam_cec_inv.columns)[i] for i in indices]\n",
    "\n",
    "indices = [i for i, s in enumerate(list(sam_cec_inv.columns)) if 'danfoss' in s.lower()]\n",
    "sam_inv_dict['cec']['danfoss'] = [list(sam_cec_inv.columns)[i] for i in indices]\n",
    "\n",
    "indices = [i for i, s in enumerate(list(sam_adr_inv.columns)) if 'sma' in s.lower()]\n",
    "sam_inv_dict['adr']['sma'] = [list(sam_adr_inv.columns)[i] for i in indices]\n",
    "\n",
    "indices = [i for i, s in enumerate(list(sam_adr_inv.columns)) if 'danfoss' in s.lower()]\n",
    "sam_inv_dict['adr']['danfoss'] = [list(sam_adr_inv.columns)[i] for i in indices]"
   ]
  },
  {
   "cell_type": "code",
   "execution_count": 4,
   "metadata": {},
   "outputs": [
    {
     "data": {
      "text/plain": [
       "['SMA_America__SB_240_US_10__240V_',\n",
       " 'SMA_America__SB10000TL_US__208V_',\n",
       " 'SMA_America__SB10000TL_US__240V_',\n",
       " 'SMA_America__SB10000TL_US_12__208V_',\n",
       " 'SMA_America__SB10000TL_US_12__240V_',\n",
       " 'SMA_America__SB11000TL_US__240V_',\n",
       " 'SMA_America__SB11000TL_US_12__240V_',\n",
       " 'SMA_America__SB1100U__240V_',\n",
       " 'SMA_America__SB1100U_SBD__240V_',\n",
       " 'SMA_America__SB2000HFUS_30__208V_',\n",
       " 'SMA_America__SB2000HFUS_30__240V_',\n",
       " 'SMA_America__SB2500HFUS_30__208V_',\n",
       " 'SMA_America__SB2500HFUS_30__240V_',\n",
       " 'SMA_America__SB3_0_1SP_US_40__208V_',\n",
       " 'SMA_America__SB3_0_1SP_US_40__240V_',\n",
       " 'SMA_America__SB3_0_1TP_US_40__208V_',\n",
       " 'SMA_America__SB3_0_1TP_US_40__240V_',\n",
       " 'SMA_America__SB3_8_1SP_US_40__208V_',\n",
       " 'SMA_America__SB3_8_1SP_US_40__240V_',\n",
       " 'SMA_America__SB3_8_1TP_US_40__208V_',\n",
       " 'SMA_America__SB3_8_1TP_US_40__240V_',\n",
       " 'SMA_America__SB3000HFUS_30__208V_',\n",
       " 'SMA_America__SB3000HFUS_30__240V_',\n",
       " 'SMA_America__SB3000TL_US_22__208V_',\n",
       " 'SMA_America__SB3000TL_US_22__240V_',\n",
       " 'SMA_America__SB3000US__208V_',\n",
       " 'SMA_America__SB3000US__240V_',\n",
       " 'SMA_America__SB3000US_12__208V_',\n",
       " 'SMA_America__SB3000US_12__240V_',\n",
       " 'SMA_America__SB3300U__240V_',\n",
       " 'SMA_America__SB3800TL_US_22__208V_',\n",
       " 'SMA_America__SB3800TL_US_22__240V_',\n",
       " 'SMA_America__SB3800U__208V_',\n",
       " 'SMA_America__SB3800U__240V_',\n",
       " 'SMA_America__SB3800US__240V_',\n",
       " 'SMA_America__SB3800US_12__240V_',\n",
       " 'SMA_America__SB4000TL_US_22__208V_',\n",
       " 'SMA_America__SB4000TL_US_22__240V_',\n",
       " 'SMA_America__SB4000US__208V_',\n",
       " 'SMA_America__SB4000US__240V_',\n",
       " 'SMA_America__SB4000US_CL___208V_',\n",
       " 'SMA_America__SB4000US_CL___240V_',\n",
       " 'SMA_America__SB4000US_12__208V_',\n",
       " 'SMA_America__SB4000US_12__240V_',\n",
       " 'SMA_America__SB5_0_1SP_US_40__208V_',\n",
       " 'SMA_America__SB5_0_1SP_US_40__240V_',\n",
       " 'SMA_America__SB5_0_1TP_US_40__208V_',\n",
       " 'SMA_America__SB5_0_1TP_US_40__240V_',\n",
       " 'SMA_America__SB5000TL_US_22__208V_',\n",
       " 'SMA_America__SB5000TL_US_22__240V_',\n",
       " 'SMA_America__SB5000US__208V_',\n",
       " 'SMA_America__SB5000US__240V_',\n",
       " 'SMA_America__SB5000US__277V_',\n",
       " 'SMA_America__SB5000US_11__208V_',\n",
       " 'SMA_America__SB5000US_11__240V_',\n",
       " 'SMA_America__SB5000US_11__277V_',\n",
       " 'SMA_America__SB5000US_12__208V_',\n",
       " 'SMA_America__SB5000US_12__240V_',\n",
       " 'SMA_America__SB5000US_12__277V_',\n",
       " 'SMA_America__SB6_0_1SP_US_40__208V_',\n",
       " 'SMA_America__SB6_0_1SP_US_40__240V_',\n",
       " 'SMA_America__SB6_0_1TP_US_40__208V_',\n",
       " 'SMA_America__SB6_0_1TP_US_40__240V_',\n",
       " 'SMA_America__SB6000TL_US__208V_',\n",
       " 'SMA_America__SB6000TL_US__240V_',\n",
       " 'SMA_America__SB6000TL_US_12__208V_',\n",
       " 'SMA_America__SB6000TL_US_12__240V_',\n",
       " 'SMA_America__SB6000TL_US_22__208V_',\n",
       " 'SMA_America__SB6000TL_US_22__240V_',\n",
       " 'SMA_America__SB6000U__208V_',\n",
       " 'SMA_America__SB6000U__240V_',\n",
       " 'SMA_America__SB6000U__277V_',\n",
       " 'SMA_America__SB6000US__208V_',\n",
       " 'SMA_America__SB6000US__240V_',\n",
       " 'SMA_America__SB6000US__277V_',\n",
       " 'SMA_America__SB6000US_11__208V_',\n",
       " 'SMA_America__SB6000US_11__240V_',\n",
       " 'SMA_America__SB6000US_11__277V_',\n",
       " 'SMA_America__SB6000US_12__208V_',\n",
       " 'SMA_America__SB6000US_12__240V_',\n",
       " 'SMA_America__SB6000US_12__277V_',\n",
       " 'SMA_America__SB7_0_1SP_US_40__208V_',\n",
       " 'SMA_America__SB7_0_1SP_US_40__240V_',\n",
       " 'SMA_America__SB7_0_1TP_US_40__208V_',\n",
       " 'SMA_America__SB7_0_1TP_US_40__240V_',\n",
       " 'SMA_America__SB7_7_1SP_US_40__208V_',\n",
       " 'SMA_America__SB7_7_1SP_US_40__240V_',\n",
       " 'SMA_America__SB7_7_1TP_US_40__208V_',\n",
       " 'SMA_America__SB7_7_1TP_US_40__240V_',\n",
       " 'SMA_America__SB7000TL_US__208V_',\n",
       " 'SMA_America__SB7000TL_US__240V_',\n",
       " 'SMA_America__SB7000TL_US_12__208V_',\n",
       " 'SMA_America__SB7000TL_US_12__240V_',\n",
       " 'SMA_America__SB7000TL_US_22__208V_',\n",
       " 'SMA_America__SB7000TL_US_22__240V_',\n",
       " 'SMA_America__SB7000US__208V_',\n",
       " 'SMA_America__SB7000US__240V_',\n",
       " 'SMA_America__SB7000US__277V_',\n",
       " 'SMA_America__SB7000US_11__208V_',\n",
       " 'SMA_America__SB7000US_11__240V_',\n",
       " 'SMA_America__SB7000US_11__277V_',\n",
       " 'SMA_America__SB7000US_12__208V_',\n",
       " 'SMA_America__SB7000US_12__240V_',\n",
       " 'SMA_America__SB7000US_12__277V_',\n",
       " 'SMA_America__SB700U__120V_',\n",
       " 'SMA_America__SB700U_SBD__120V_',\n",
       " 'SMA_America__SB7700TL_US_22__208V_',\n",
       " 'SMA_America__SB7700TL_US_22__240V_',\n",
       " 'SMA_America__SB8000TL_US__240V_',\n",
       " 'SMA_America__SB8000TL_US_12__208V_',\n",
       " 'SMA_America__SB8000TL_US_12__240V_',\n",
       " 'SMA_America__SB8000US__240V_',\n",
       " 'SMA_America__SB8000US__277V_',\n",
       " 'SMA_America__SB8000US_11__240V_',\n",
       " 'SMA_America__SB8000US_11__277V_',\n",
       " 'SMA_America__SB8000US_12__240V_',\n",
       " 'SMA_America__SB8000US_12__277V_',\n",
       " 'SMA_America__SB9000TL_US__208V_',\n",
       " 'SMA_America__SB9000TL_US__240V_',\n",
       " 'SMA_America__SB9000TL_US_12__208V_',\n",
       " 'SMA_America__SB9000TL_US_12__240V_',\n",
       " 'SMA_America__SBS3_8_US_10__240V_',\n",
       " 'SMA_America__SBS5_0_US_10__240V_',\n",
       " 'SMA_America__SBS6_0_US_10__240V_',\n",
       " 'SMA_America__SC_2500_EV_US__550V_',\n",
       " 'SMA_America__SC_2750_EV_US__600V_',\n",
       " 'SMA_America__SC_1850_US__385V_',\n",
       " 'SMA_America__SC_2200_US__385V_',\n",
       " 'SMA_America__SC125U__208V_',\n",
       " 'SMA_America__SC125U__480V_',\n",
       " 'SMA_America__SC250U__480V_',\n",
       " 'SMA_America__SC500CP_US__with_ABB_EcoDry_Ultra_transformer_',\n",
       " 'SMA_America__SC500CP_US_600V__with_ABB_transformer_',\n",
       " 'SMA_America__SC500HE_US_MV__with_Cooper_transformer_',\n",
       " 'SMA_America__SC500HE_US_MV__with_NEMA_TP_1_transformer_',\n",
       " 'SMA_America__SC630CP_US__with_ABB_EcoDry_Ultra_transformer_',\n",
       " 'SMA_America__SC720CP_US__with_ABB_EcoDry_Ultra_transformer_',\n",
       " 'SMA_America__SC750CP_US__with_ABB_EcoDry_Ultra_transformer_',\n",
       " 'SMA_America__SC800CP_US__with_ABB_EcoDry_Ultra_transformer_',\n",
       " 'SMA_America__SC850CP_US__with_ABB_EcoDry_Ultra_transformer_',\n",
       " 'SMA_America__SC900CP_US__with_ABB_EcoDry_Ultra_transformer_',\n",
       " 'SMA_America__ST36__208V_',\n",
       " 'SMA_America__ST36__240V_',\n",
       " 'SMA_America__ST36__277V_',\n",
       " 'SMA_America__ST42__208V_',\n",
       " 'SMA_America__ST42__240V_',\n",
       " 'SMA_America__ST42__277V_',\n",
       " 'SMA_America__ST48__240V_',\n",
       " 'SMA_America__ST48__277V_',\n",
       " 'SMA_America__STP_33_US_41__480V_',\n",
       " 'SMA_America__STP_50_US_41__480V_',\n",
       " 'SMA_America__STP_60_US_10__400V_',\n",
       " 'SMA_America__STP_60_US_10__480V_',\n",
       " 'SMA_America__STP_62_US_41__480V_',\n",
       " 'SMA_America__STP12000TL_US_10__480V_',\n",
       " 'SMA_America__STP15000TL_US_10__480V_',\n",
       " 'SMA_America__STP20000TL_US_10__480V_',\n",
       " 'SMA_America__STP24000TL_US_10__480V_',\n",
       " 'SMA_America__STP30000TL_US_10__480V_',\n",
       " 'SMA_America__STP50_US_40__480V_',\n",
       " 'SMA_America__SWR1800U__120V_',\n",
       " 'SMA_America__SWR1800U_SBD__120V_',\n",
       " 'SMA_America__SWR2100U__240V_',\n",
       " 'SMA_America__SWR2100U_SBD__240V_',\n",
       " 'SMA_America__SWR2500U__208V_',\n",
       " 'SMA_America__SWR2500U__240V_',\n",
       " 'SMA_America__SWR2500U_SBD__208V_',\n",
       " 'SMA_America__SWR2500U_SBD__240V_',\n",
       " 'SMA_America__Sunny_Island_SI6048']"
      ]
     },
     "execution_count": 4,
     "metadata": {},
     "output_type": "execute_result"
    }
   ],
   "source": [
    "sam_inv_dict['cec']['sma']"
   ]
  },
  {
   "cell_type": "code",
   "execution_count": 5,
   "metadata": {},
   "outputs": [
    {
     "data": {
      "text/plain": [
       "['Schuco_USA_L_P___Original_Mfg___SMA_America___SB700U_120V__CEC_2010_',\n",
       " 'Schuco_USA_L_P___Original_Mfg___SMA_America___SB700U_SBD_120V__CEC_2010_',\n",
       " 'Schuco_USA_L_P___Original_Mfg___SMA_America___SB3000US__208V__208V__CEC_NaN_',\n",
       " 'Schuco_USA_L_P___Original_Mfg___SMA_America___SB3000US__240V__240V__CEC_NaN_',\n",
       " 'Schuco_USA_L_P___Original_Mfg___SMA_America___SB3300U__240V__240V__CEC_2006_',\n",
       " 'Schuco_USA_L_P___Original_Mfg___SMA_America___SB3800U__208V__208V__CEC_2006_',\n",
       " 'Schuco_USA_L_P___Original_Mfg___SMA_America___SB3800U__240V__240V__CEC_2006_',\n",
       " 'Schuco_USA_L_P___Original_Mfg___SMA_America___SB4000US__208V__208V__CEC_NaN_',\n",
       " 'Schuco_USA_L_P___Original_Mfg___SMA_America___SB4000US__240V__240V__CEC_NaN_',\n",
       " 'Schuco_USA_L_P___Original_Mfg___SMA_America___SB5000US__208V__208V__CEC_NaN_',\n",
       " 'Schuco_USA_L_P___Original_Mfg___SMA_America___SB5000US__240V__240V__CEC_NaN_',\n",
       " 'Schuco_USA_L_P___Original_Mfg___SMA_America___SB5000US__277V__277V__CEC_NaN_',\n",
       " 'Schuco_USA_L_P___Original_Mfg___SMA_America___SB6000U__208V__208V__CEC_2006_',\n",
       " 'Schuco_USA_L_P___Original_Mfg___SMA_America___SB6000U__240V__240V__CEC_2006_',\n",
       " 'Schuco_USA_L_P___Original_Mfg___SMA_America___SB6000U__277V__277V__CEC_2006_',\n",
       " 'Schuco_USA_L_P___Original_Mfg___SMA_America___SB6000US__208V__208V__CEC_2006_',\n",
       " 'Schuco_USA_L_P___Original_Mfg___SMA_America___SB6000US__240V__240V__CEC_2006_',\n",
       " 'Schuco_USA_L_P___Original_Mfg___SMA_America___SB6000US__277V__277V__CEC_2006_',\n",
       " 'Schuco_USA_L_P___Original_Mfg___SMA_America___SB7000US__208V__208V__CEC_2007_',\n",
       " 'Schuco_USA_L_P___Original_Mfg___SMA_America___SB7000US__240V__240V__CEC_2007_',\n",
       " 'Schuco_USA_L_P___Original_Mfg___SMA_America___SB7000US__277V__277V__CEC_2007_',\n",
       " 'Schuco_USA_L_P___Original_Mfg___SMA_America___SB8000US__240V__240V__CEC_2010_',\n",
       " 'Schuco_USA_L_P___Original_Mfg___SMA_America___SB8000US__277V__277V__CEC_2010_',\n",
       " 'Schuco_USA_L_P___Original_Mfg___SMA_America___ST42__208__208V__CEC_2008_',\n",
       " 'Schuco_USA_L_P___Original_Mfg___SMA_America___ST42__277__277V__CEC_2008_',\n",
       " 'Schuco_USA_L_P___Original_Mfg___SMA_America___SWR1800U_SBD_120V__CEC_2005_',\n",
       " 'Schuco_USA_L_P___Original_Mfg___SMA_America___SWR2100U_240V__CEC_2006_',\n",
       " 'Schuco_USA_L_P___Original_Mfg___SMA_America___SWR2500U__208V__208V__CEC_2005_',\n",
       " 'Schuco_USA_L_P___Original_Mfg___SMA_America___SWR2500U__240V__240V__CEC_2006_',\n",
       " 'Schuco_USA_L_P___Original_Mfg___SMA_America___SWR2500U_SBD__208V__208V__CEC_2005_',\n",
       " 'Schuco_USA_L_P___Original_Mfg___SMA_America___SWR2500U_SBD__240V__240V__CEC_2006_',\n",
       " 'SMA_America__SB1100U_240V__CEC_2005_',\n",
       " 'SMA_America__SB3000US_208V__CEC_2007_',\n",
       " 'SMA_America__SB3000US_240V__CEC_2007_',\n",
       " 'SMA_America__SB3300U_240V__CEC_2006_',\n",
       " 'SMA_America__SB3800U_208V__CEC_2005_',\n",
       " 'SMA_America__SB3800U_240V__CEC_2005_',\n",
       " 'SMA_America__SB4000US_208V__CEC_2007_',\n",
       " 'SMA_America__SB4000US_240V__CEC_2007_',\n",
       " 'SMA_America__SB5000US_208V__CEC_2007_',\n",
       " 'SMA_America__SB5000US_240V__CEC_2007_',\n",
       " 'SMA_America__SB5000US_277V__CEC_2007_',\n",
       " 'SMA_America__SB6000U_208V__CEC_2005_',\n",
       " 'SMA_America__SB6000U_240V__CEC_2005_',\n",
       " 'SMA_America__SB6000U_277V__CEC_2005_',\n",
       " 'SMA_America__SB6000US_208V__CEC_2007_',\n",
       " 'SMA_America__SB6000US_240V__CEC_2007_',\n",
       " 'SMA_America__SB6000US_277V__CEC_2007_',\n",
       " 'SMA_America__SB7000US_208V__CEC_2007_',\n",
       " 'SMA_America__SB7000US_240V__CEC_2007_',\n",
       " 'SMA_America__SB7000US_277V__CEC_2007_',\n",
       " 'SMA_America__SB700U_120V__CEC_2005_',\n",
       " 'SMA_America__SB8000US_240V__CEC_2010_',\n",
       " 'SMA_America__SB8000US_277V__CEC_2010_',\n",
       " 'SMA_America__SC125U_208V__CEC_2005_',\n",
       " 'SMA_America__SC125U_480V__CEC_2005_',\n",
       " 'SMA_America__SC250U_480V__CEC_NaN_',\n",
       " 'SMA_America__SC_500HE_US_200V__CEC_2010_',\n",
       " 'SMA_America__SC_500HE_US___transformer__MV_Cooper__480V__CEC_2010_',\n",
       " 'SMA_America__SC_500HE_US___transformer__MV_TP1__480V__CEC_2010_',\n",
       " 'SMA_America__SC500U_480V__CEC_2009_',\n",
       " 'SMA_America__ST36__208__208V__CEC_2008_',\n",
       " 'SMA_America__ST36__240__240V__CEC_2010_',\n",
       " 'SMA_America__ST36__277__277V__CEC_2008_',\n",
       " 'SMA_America__ST42__208__208V__CEC_2008_',\n",
       " 'SMA_America__ST42__240__208V__CEC_2010_',\n",
       " 'SMA_America__ST42__277__277V__CEC_2008_',\n",
       " 'SMA_America__ST48__277__277V__CEC_2010_',\n",
       " 'SMA_America__SWR1800U_120V__CEC_2005_',\n",
       " 'SMA_America__SWR2100U_208V__CEC_2006_',\n",
       " 'SMA_America__SWR2500U_208V__CEC_2005_',\n",
       " 'SMA_America__SWR2500U_240V__CEC_2005_',\n",
       " 'SMA_Solar_Technology_AG__SB_2000HFUS_30_208V_208V__CEC_2011_',\n",
       " 'SMA_Solar_Technology_AG__SB2000HFUS_30_240V_240V__CEC_2011_',\n",
       " 'SMA_Solar_Technology_AG__SB2500HFUS_30_208V_208V__CEC_2011_',\n",
       " 'SMA_Solar_Technology_AG__SB_2500HFUS_30__240V_240V__CEC_2011_',\n",
       " 'SMA_Solar_Technology_AG__SB3000HFUS_30__208V_208V__CEC_2011_',\n",
       " 'SMA_Solar_Technology_AG__SB3000HFUS_30___240V_240V__CEC_2011_',\n",
       " 'SMA_Solar_Technology_AG__SB8000TL_US_208V__CEC_2010_',\n",
       " 'SMA_Solar_Technology_AG__SB9000TL_US_208V__CEC_2010_',\n",
       " 'SMA_Solar_Technology_AG__SB10000TL_US_208V__CEC_2010_',\n",
       " 'SMA_Technology_AG__SB3800_US_240V__CEC_2010_',\n",
       " 'SunPower_Corp__Original_Mfg___SMA_America___SPR_3000m__208V__208V__CEC_2007_',\n",
       " 'SunPower_Corp__Original_Mfg___SMA_America___SPR_3000m__240V__240V__CEC_2007_',\n",
       " 'SunPower_Corp__Original_Mfg___SMA_America___SPR_4000m__208V__208V__CEC_2007_',\n",
       " 'SunPower_Corp__Original_Mfg___SMA_America___SPR_4000m__240V__240V__CEC_2007_',\n",
       " 'SunPower_Corp__Original_Mfg___SMA_America___SPR_5000m__208V__208V__CEC_2007_',\n",
       " 'SunPower_Corp__Original_Mfg___SMA_America___SPR_5000m__240V__240V__CEC_2007_',\n",
       " 'SunPower_Corp__Original_Mfg___SMA_America___SPR_5000m__277V__277V__CEC_2007_',\n",
       " 'SunPower_Corp__Original_Mfg___SMA_America___SPR_6000m__208V__208V__CEC_2007_',\n",
       " 'SunPower_Corp__Original_Mfg___SMA_America___SPR_6000m__240V__240V__CEC_2007_',\n",
       " 'SunPower_Corp__Original_Mfg___SMA_America___SPR_6000m__277V__277V__CEC_2007_',\n",
       " 'SunPower_Corp__Original_Mfg___SMA_America___SPR_7000m__208V__208V__CEC_2007_',\n",
       " 'SunPower_Corp__Original_Mfg___SMA_America___SPR_7000m__240V__240V__CEC_2007_',\n",
       " 'SunPower_Corp__Original_Mfg___SMA_America___SPR_7000m__277V__277V__CEC_2007_',\n",
       " 'SunPower_Corp__Original_Mfg___SMA_America___SPR_8000m_240V__CEC_2010_',\n",
       " 'SunPower_Corp__Original_Mfg___SMA_America___SPR_8000m_277V__CEC_2010_',\n",
       " 'SMA_America__SB5000US_11_208V__CEC_2007_',\n",
       " 'SMA_America__SB5000US_11_240V__CEC_2007_',\n",
       " 'SMA_America__SB5000US_11_277V__CEC_2007_',\n",
       " 'SMA_America__SB6000US_11_208V__CEC_2007_',\n",
       " 'SMA_America__SB6000US_11_240V__CEC_2007_',\n",
       " 'SMA_America__SB6000US_11_277V__CEC_2007_',\n",
       " 'SMA_America__SB7000US_11_208V__CEC_2007_',\n",
       " 'SMA_America__SB7000US_11_240V__CEC_2007_',\n",
       " 'SMA_America__SB7000US_11_277V__CEC_2007_',\n",
       " 'SMA_America__SB8000US_11_240V__CEC_2010_',\n",
       " 'SMA_America__SB8000US_11_277V__CEC_2010_',\n",
       " 'SMA_America__SB10000TL_US_12_208V__CEC_2012_',\n",
       " 'SMA_America__SB5000US__208V__w___11_or__12_208V__CEC_2012_',\n",
       " 'SMA_America__SB5000US__240V__w___11_or__12_240V__CEC_2012_',\n",
       " 'SMA_America__SB5000US__277V__w___11_or__12_277V__CEC_2012_',\n",
       " 'SMA_America__SB6000US__208V__w___11_or__12_208V__CEC_2012_',\n",
       " 'SMA_America__SB6000US__240V__w___11_or__12_240V__CEC_2012_',\n",
       " 'SMA_America__SB6000US__277V__w___11_or__12_277V__CEC_2012_',\n",
       " 'SMA_America__SB7000US__208V__w___11_or__12_208V__CEC_2012_',\n",
       " 'SMA_America__SB7000US__240V__w___11_or__12_240V__CEC_2012_',\n",
       " 'SMA_America__SB7000US__277V__w___11_or__12_277V__CEC_2012_',\n",
       " 'SMA_America__SB8000TL_US_12_208V__CEC_2012_',\n",
       " 'SMA_America__SB8000US__240V__w___11_or__12_240V__CEC_2012_',\n",
       " 'SMA_America__SB8000US__277V__w___11_or__12_277V__CEC_2012_',\n",
       " 'SMA_America__SB9000TL_US_12_208V__CEC_2012_',\n",
       " 'SMA_America__SC250U__480V__480V__CEC_2012_',\n",
       " 'SMA_America__SC500CP_US_270V__CEC_2012_',\n",
       " 'SMA_America__SC630CP_US_315V__CEC_2012_',\n",
       " 'SMA_America__SC720CP_US_324V__CEC_2012_',\n",
       " 'SMA_America__SC750CP_US_342V__CEC_2012_',\n",
       " 'SMA_America__SC800CP_US_360V__CEC_2012_',\n",
       " 'SMA_America__SB6000TL_US__208V__208V__CEC_2012_',\n",
       " 'SMA_America__SB6000TL_US__240V__240V__CEC_2012_',\n",
       " 'SMA_America__SB6000TL_US_12__208V__208V__CEC_2012_',\n",
       " 'SMA_America__SB6000TL_US_12__240V__240V__CEC_2012_',\n",
       " 'SMA_America__SB7000TL_US__208V__208V__CEC_2012_',\n",
       " 'SMA_America__SB7000TL_US__240V__240V__CEC_2012_',\n",
       " 'SMA_America__SB7000TL_US_12__208V__208V__CEC_2012_',\n",
       " 'SMA_America__SB7000TL_US_12__240V__240V__CEC_2012_',\n",
       " 'SMA_America__SB8000TL_US__240V__240V__CEC_2012_',\n",
       " 'SMA_America__SB8000TL_US_12__208V__208V__CEC_2012_',\n",
       " 'SMA_America__SB8000TL_US_12__240V__240V__CEC_2012_',\n",
       " 'SMA_America__SB9000TL_US__240V__240V__CEC_2012_',\n",
       " 'SMA_America__SB9000TL_US_12__208V__208V__CEC_2012_',\n",
       " 'SMA_America__SB9000TL_US_12__240V__240V__CEC_2012_',\n",
       " 'SMA_America__SB10000TL_US__240V__240V__CEC_2012_',\n",
       " 'SMA_America__SB10000TL_US_12__208V__208V__CEC_2012_',\n",
       " 'SMA_America__SB10000TL_US_12__240V__240V__CEC_2012_',\n",
       " 'SMA_America__SB11000TL_US__240V__240V__CEC_2012_',\n",
       " 'SMA_America__SB11000TL_US_12__240V__240V__CEC_2012_',\n",
       " 'SMA_America__Sunny_Island_SI4548_120V__CEC_2012_',\n",
       " 'SMA_America__Sunny_Island_SI6048_120V__CEC_2012_',\n",
       " 'SMA_America__SB3000TL_US_22__208V__208V__CEC_2013_',\n",
       " 'SMA_America__SB3000TL_US_22__240V__240V__CEC_2013_',\n",
       " 'SMA_America__SB3800TL_US_22__208V__208V__CEC_2013_',\n",
       " 'SMA_America__SB3800TL_US_22__240V__240V__CEC_2013_',\n",
       " 'SMA_America__SB4000TL_US_22__208V__208V__CEC_2013_',\n",
       " 'SMA_America__SB4000TL_US_22__240V__240V__CEC_2013_',\n",
       " 'SMA_America__SB5000TL_US_22__208V__208V__CEC_2013_',\n",
       " 'SMA_America__SB5000TL_US_22__240V__240V__CEC_2013_',\n",
       " 'SMA_America__SB_240_US_10_240V__CEC_2013_',\n",
       " 'SMA_America__SC500CP_US_600V__w__ABB_xfmr__200V__CEC_2013_',\n",
       " 'SMA_America__STP12000TL_US_10__480V__480V__CEC_2013_',\n",
       " 'SMA_America__STP15000TL_US_10__480V__480V__CEC_2013_',\n",
       " 'SMA_America__STP20000TL_US_10__480V__480V__CEC_2013_',\n",
       " 'SMA_America__STP24000TL_US_10__480V__480V__CEC_2013_']"
      ]
     },
     "execution_count": 5,
     "metadata": {},
     "output_type": "execute_result"
    }
   ],
   "source": [
    "sam_inv_dict['adr']['sma']"
   ]
  },
  {
   "cell_type": "code",
   "execution_count": 6,
   "metadata": {},
   "outputs": [
    {
     "data": {
      "text/plain": [
       "['Danfoss_Solar__DLX_2_0_UL__208V_',\n",
       " 'Danfoss_Solar__DLX_2_0_UL__240V_',\n",
       " 'Danfoss_Solar__DLX_2_9_UL__208V_',\n",
       " 'Danfoss_Solar__DLX_2_9_UL__240V_',\n",
       " 'Danfoss_Solar__DLX_3_8_UL__208V_',\n",
       " 'Danfoss_Solar__DLX_3_8_UL__240V_',\n",
       " 'Danfoss_Solar__DLX_4_4_UL__208V_',\n",
       " 'Danfoss_Solar__DLX_4_4_UL__240V_',\n",
       " 'Danfoss_Solar__MLX_400V__400V_',\n",
       " 'Danfoss__MLX_480V__480V_']"
      ]
     },
     "execution_count": 6,
     "metadata": {},
     "output_type": "execute_result"
    }
   ],
   "source": [
    "sam_inv_dict['cec']['danfoss']"
   ]
  },
  {
   "cell_type": "code",
   "execution_count": 7,
   "metadata": {},
   "outputs": [
    {
     "data": {
      "text/plain": [
       "['Danfoss_Solar__DLX_3_8_UL__208V__208V__CEC_2012_',\n",
       " 'Danfoss_Solar__DLX_3_8_UL__240V__240V__CEC_2012_',\n",
       " 'Danfoss_Solar__DLX_4_4_UL__208V__208V__CEC_2012_',\n",
       " 'Danfoss_Solar__DLX_4_4_UL__240V__240V__CEC_2012_',\n",
       " 'Danfoss_Solar__DLX_2_0_UL__208V__208V__CEC_2013_',\n",
       " 'Danfoss_Solar__DLX_2_0_UL__240V__240V__CEC_2013_',\n",
       " 'Danfoss_Solar__DLX_2_9_UL__208V__208V__CEC_2013_',\n",
       " 'Danfoss_Solar__DLX_2_9_UL__240V__240V__CEC_2013_']"
      ]
     },
     "execution_count": 7,
     "metadata": {},
     "output_type": "execute_result"
    }
   ],
   "source": [
    "sam_inv_dict['adr']['danfoss']"
   ]
  },
  {
   "cell_type": "code",
   "execution_count": 8,
   "metadata": {
    "scrolled": false
   },
   "outputs": [],
   "source": [
    "# Modules\n",
    "sam_mod_dict = {}\n",
    "sam_mod_dict['cec'] = {}\n",
    "sam_mod_dict['sandia'] = {}\n",
    "\n",
    "indices = [i for i, s in enumerate(list(sam_cec_mod.columns)) if 'aleo' in s.lower()]\n",
    "sam_mod_dict['cec']['aleo'] = [list(sam_cec_mod.columns)[i] for i in indices]\n",
    "\n",
    "indices = [i for i, s in enumerate(list(sam_cec_mod.columns)) if 'schott' in s.lower()]\n",
    "sam_mod_dict['cec']['schott'] = [list(sam_cec_mod.columns)[i] for i in indices]\n",
    "\n",
    "indices = [i for i, s in enumerate(list(sam_sandia_mod.columns)) if 'aleo' in s.lower()]\n",
    "sam_mod_dict['sandia']['aleo'] = [list(sam_sandia_mod.columns)[i] for i in indices]\n",
    "\n",
    "indices = [i for i, s in enumerate(list(sam_sandia_mod.columns)) if 'schott' in s.lower()]\n",
    "sam_mod_dict['sandia']['schott'] = [list(sam_sandia_mod.columns)[i] for i in indices]"
   ]
  },
  {
   "cell_type": "code",
   "execution_count": 9,
   "metadata": {},
   "outputs": [
    {
     "data": {
      "text/plain": [
       "['Aleo_Solar_P18y250',\n",
       " 'Aleo_Solar_S18y250',\n",
       " 'Aleo_Solar_P18y255',\n",
       " 'Aleo_Solar_S18y255',\n",
       " 'Aleo_Solar_P18y260',\n",
       " 'Aleo_Solar_S18y260',\n",
       " 'Aleo_Solar_P18Y265',\n",
       " 'Aleo_Solar_S18y265',\n",
       " 'Aleo_Solar_S19Y270',\n",
       " 'Aleo_Solar_S79y270',\n",
       " 'Aleo_Solar_P19Y275',\n",
       " 'Aleo_Solar_S19y275',\n",
       " 'Aleo_Solar_S79y275',\n",
       " 'Aleo_Solar_S19y280',\n",
       " 'Aleo_Solar_S59y280',\n",
       " 'Aleo_Solar_S79y280',\n",
       " 'Aleo_Solar_P19Y285',\n",
       " 'Aleo_Solar_S19y285',\n",
       " 'Aleo_Solar_S59y285',\n",
       " 'Aleo_Solar_S79y285',\n",
       " 'Aleo_Solar_P19Y290',\n",
       " 'Aleo_Solar_S19y290',\n",
       " 'Aleo_Solar_S59y290',\n",
       " 'Aleo_Solar_S79Y290',\n",
       " 'Aleo_Solar_P19Y295',\n",
       " 'Aleo_Solar_S19Y295',\n",
       " 'Aleo_Solar_S59Y295',\n",
       " 'Aleo_Solar_S79Y295',\n",
       " 'Aleo_Solar_P19Y300',\n",
       " 'Aleo_Solar_S19Y300',\n",
       " 'Aleo_Solar_S59Y300',\n",
       " 'Aleo_Solar_S79Y300',\n",
       " 'Aleo_Solar_P19Y305',\n",
       " 'Aleo_Solar_S19Y305',\n",
       " 'Aleo_Solar_S59Y305',\n",
       " 'Aleo_Solar_S79Y305',\n",
       " 'Aleo_Solar_P19Y310',\n",
       " 'Aleo_Solar_S19Y310',\n",
       " 'Aleo_Solar_S59Y310']"
      ]
     },
     "execution_count": 9,
     "metadata": {},
     "output_type": "execute_result"
    }
   ],
   "source": [
    "sam_mod_dict['cec']['aleo']"
   ]
  },
  {
   "cell_type": "code",
   "execution_count": 10,
   "metadata": {},
   "outputs": [
    {
     "data": {
      "text/plain": [
       "['Schott_Solar_ASE_300_DGF_25_145',\n",
       " 'Schott_Solar_SAPC_165',\n",
       " 'Schott_Solar_SAPC_165S',\n",
       " 'Schott_Solar_SAPC_170',\n",
       " 'Schott_Solar_SAPC_175',\n",
       " 'Schott_Solar_ASE_300_DGF_34_195',\n",
       " 'Schott_Solar_Perform_Poly_202',\n",
       " 'Schott_Solar_Poly_202',\n",
       " 'Schott_Solar_Perform_Poly_210',\n",
       " 'Schott_Solar_Poly_210',\n",
       " 'Schott_Solar_Perform_Poly_217',\n",
       " 'Schott_Solar_Poly_217',\n",
       " 'Schott_Solar_Perform_Poly_220',\n",
       " 'Schott_Solar_Poly_220',\n",
       " 'Schott_Solar_Perform_Poly_225',\n",
       " 'Schott_Solar_Poly_225',\n",
       " 'Schott_Solar_Perform_Poly_230',\n",
       " 'Schott_Solar_Poly_230',\n",
       " 'Schott_Solar_Perform_Poly_235',\n",
       " 'Schott_Solar_Poly_235',\n",
       " 'Schott_Solar_ASE_300_DGF_42_240',\n",
       " 'Schott_Solar_Perform_Mono_240',\n",
       " 'Schott_Solar_Perform_Poly_240',\n",
       " 'Schott_Solar_Poly_240',\n",
       " 'Schott_Solar_Perform_Mono_245',\n",
       " 'Schott_Solar_PERFORM_POLY_245',\n",
       " 'Schott_Solar_ASE_300_DGF_50_250',\n",
       " 'Schott_Solar_Perform_Mono_250',\n",
       " 'Schott_Solar_PERFORM_POLY_250',\n",
       " 'Schott_Solar_Perform_Mono_255',\n",
       " 'Schott_Solar_ASE_300_DGF_50_260',\n",
       " 'Schott_Solar_Perform_Mono_260',\n",
       " 'Schott_Solar_ASE_300_DGF_50_270',\n",
       " 'Schott_Solar_ASE_300_DGF_50_280',\n",
       " 'Schott_Solar_ASE_300_DGF_50_290',\n",
       " 'Schott_Solar_ASE_300_DGF_50_300',\n",
       " 'Schott_Solar_ASE_300_DGF_50_310']"
      ]
     },
     "execution_count": 10,
     "metadata": {},
     "output_type": "execute_result"
    }
   ],
   "source": [
    "sam_mod_dict['cec']['schott']"
   ]
  },
  {
   "cell_type": "code",
   "execution_count": 11,
   "metadata": {},
   "outputs": [
    {
     "data": {
      "text/plain": [
       "['Aleo_S03_160__2007__E__',\n",
       " 'Aleo_S03_165__2007__E__',\n",
       " 'Aleo_S16_165__2007__E__',\n",
       " 'Aleo_S16_170__2007__E__',\n",
       " 'Aleo_S16_175__2007__E__',\n",
       " 'Aleo_S16_180__2007__E__',\n",
       " 'Aleo_S16_185__2007__E__']"
      ]
     },
     "execution_count": 11,
     "metadata": {},
     "output_type": "execute_result"
    }
   ],
   "source": [
    "sam_mod_dict['sandia']['aleo']"
   ]
  },
  {
   "cell_type": "code",
   "execution_count": 12,
   "metadata": {},
   "outputs": [
    {
     "data": {
      "text/plain": [
       "['Schott_Solar_ASE_100_ATF_17__100___1999__E__',\n",
       " 'Schott_Solar_ASE_100_ATF_17__85___1999__E__',\n",
       " 'Schott_Solar_ASE_100_ATF_17__92___1999__E__',\n",
       " 'Schott_Solar_ASE_100_ATF_34__100___1999__E__',\n",
       " 'Schott_Solar_ASE_100_ATF_34__85___1999__E__',\n",
       " 'Schott_Solar_ASE_100_ATF_34__92___1999__E__',\n",
       " 'Schott_Solar_ASE_250_DGF_50__250___2007__E__',\n",
       " 'Schott_Solar_ASE_270_DGF_50__260___2007__E__',\n",
       " 'Schott_Solar_ASE_270_DGF_50__270___2007__E__',\n",
       " 'Schott_Solar_ASE_300_DGF_17__265___1999__E__',\n",
       " 'Schott_Solar_ASE_300_DGF_17__285___1999__E__',\n",
       " 'Schott_Solar_ASE_300_DGF_17__300___1999__E__',\n",
       " 'Schott_Solar_ASE_300_DGF_50___1995_',\n",
       " 'Schott_Solar_ASE_300_DGF_50__265___1999__E__',\n",
       " 'Schott_Solar_ASE_300_DGF_50__280___2007__E__',\n",
       " 'Schott_Solar_ASE_300_DGF_50__285___1999__E__',\n",
       " 'Schott_Solar_ASE_300_DGF_50__290___2007__E__',\n",
       " 'Schott_Solar_ASE_300_DGF_50__300___1999__E__',\n",
       " 'Schott_Solar_ASE_300_DGF_50__300___2007__E__',\n",
       " 'Schott_Solar_ASE_300_DGF_50__310___2007__E__',\n",
       " 'Schott_Solar_ASE_300_DGF_50__320___2007__E__',\n",
       " 'Schott_Solar_ASE_50_ALF_17___1997_',\n",
       " 'Schott_Solar_ASE_50_ATF_17__45___1999__E__',\n",
       " 'Schott_Solar_ASE_50_ATF_17__50___1999__E__',\n",
       " 'Schott_Solar_SAPC_165___2001_',\n",
       " 'Schott_Solar_SAPC_165__2002__E__',\n",
       " 'Schott_Solar_SAPC_170__2007__E__',\n",
       " 'Schott_Solar_SAPC_175__2007__E__']"
      ]
     },
     "execution_count": 12,
     "metadata": {},
     "output_type": "execute_result"
    }
   ],
   "source": [
    "sam_mod_dict['sandia']['schott']"
   ]
  },
  {
   "cell_type": "markdown",
   "metadata": {},
   "source": [
    "### Export as json file"
   ]
  },
  {
   "cell_type": "code",
   "execution_count": 13,
   "metadata": {},
   "outputs": [],
   "source": [
    "with open('./data/sam_inverters.json', 'w') as fp:\n",
    "    json.dump(sam_inv_dict, fp, sort_keys=True, indent=4)\n",
    "    \n",
    "with open('./data/sam_modules.json', 'w') as fp:\n",
    "    json.dump(sam_mod_dict, fp, sort_keys=True, indent=4)"
   ]
  },
  {
   "cell_type": "markdown",
   "metadata": {},
   "source": [
    "### View SonnJA technologies"
   ]
  },
  {
   "cell_type": "code",
   "execution_count": 14,
   "metadata": {},
   "outputs": [
    {
     "data": {
      "text/plain": [
       "Vac                          208\n",
       "Pso                    11.644027\n",
       "Paco                      3010.0\n",
       "Pdco                 3147.748535\n",
       "Vdco                       415.0\n",
       "C0                     -0.000011\n",
       "C1                     -0.000047\n",
       "C2                     -0.001715\n",
       "C3                     -0.001341\n",
       "Pnt                        0.903\n",
       "Vdcmax                     480.0\n",
       "Idcmax                  7.584936\n",
       "Mppt_low                   100.0\n",
       "Mppt_high                  480.0\n",
       "CEC_Date                     NaN\n",
       "CEC_Type     Utility Interactive\n",
       "Name: SMA_America__SB3000HFUS_30__208V_, dtype: object"
      ]
     },
     "execution_count": 14,
     "metadata": {},
     "output_type": "execute_result"
    }
   ],
   "source": [
    "sam_cec_inv_smasb3000 = sam_cec_inv.SMA_America__SB3000HFUS_30__208V_\n",
    "sam_cec_inv_smasb3000"
   ]
  },
  {
   "cell_type": "code",
   "execution_count": 15,
   "metadata": {},
   "outputs": [
    {
     "data": {
      "text/plain": [
       "Manufacturer                                 SMA Solar Technology AG\n",
       "Model                                           SB3000HFUS-30 - 240V\n",
       "Source                                                           CEC\n",
       "Vac                                                            240.0\n",
       "Vintage                                                       2011.0\n",
       "Pacmax                                                        3070.0\n",
       "Pnom                                                            2990\n",
       "Vnom                                                             415\n",
       "Vmin                                                             221\n",
       "Vmax                                                             480\n",
       "ADRCoefficients    [0.00581, 0.00116, 0.03231, -0.00402, 0.00687,...\n",
       "Pnt                                                              1.1\n",
       "Vdcmax                                                         600.0\n",
       "Idcmax                                                          14.8\n",
       "MPPTLow                                                        220.0\n",
       "MPPTHi                                                         480.0\n",
       "TambLow                                                        -25.0\n",
       "TambHi                                                          45.0\n",
       "Weight                                                          51.0\n",
       "Name: SMA_Solar_Technology_AG__SB3000HFUS_30___240V_240V__CEC_2011_, dtype: object"
      ]
     },
     "execution_count": 15,
     "metadata": {},
     "output_type": "execute_result"
    }
   ],
   "source": [
    "sam_adr_inv_smasb3000 = sam_adr_inv.SMA_Solar_Technology_AG__SB3000HFUS_30___240V_240V__CEC_2011_\n",
    "sam_adr_inv_smasb3000"
   ]
  },
  {
   "cell_type": "code",
   "execution_count": 16,
   "metadata": {
    "scrolled": true
   },
   "outputs": [
    {
     "data": {
      "text/plain": [
       "Technology           Multi-c-Si\n",
       "Bifacial                      0\n",
       "STC                     249.672\n",
       "PTC                       224.7\n",
       "A_c                       1.643\n",
       "Length                     1.66\n",
       "Width                      0.99\n",
       "N_s                          60\n",
       "I_sc_ref                   8.76\n",
       "V_oc_ref                   37.5\n",
       "I_mp_ref                   8.24\n",
       "V_mp_ref                   30.3\n",
       "alpha_sc               0.003854\n",
       "beta_oc                -0.11775\n",
       "T_NOCT                     47.5\n",
       "a_ref                   1.51423\n",
       "I_L_ref                8.766827\n",
       "I_o_ref                     0.0\n",
       "R_s                    0.329448\n",
       "R_sh_ref             422.752747\n",
       "Adjust                 8.786825\n",
       "gamma_r                   -0.43\n",
       "BIPV                          N\n",
       "Version       SAM 2018.11.11 r2\n",
       "Date                   1/3/2019\n",
       "Name: Aleo_Solar_S18y250, dtype: object"
      ]
     },
     "execution_count": 16,
     "metadata": {},
     "output_type": "execute_result"
    }
   ],
   "source": [
    "sam_cec_mod['Aleo_Solar_S18y250']"
   ]
  },
  {
   "cell_type": "code",
   "execution_count": 21,
   "metadata": {},
   "outputs": [
    {
     "data": {
      "text/plain": [
       "Technology           Multi-c-Si\n",
       "Bifacial                      0\n",
       "STC                       240.0\n",
       "PTC                      215.04\n",
       "A_c                       1.643\n",
       "Length                     1.66\n",
       "Width                      0.99\n",
       "N_s                          60\n",
       "I_sc_ref                   8.65\n",
       "V_oc_ref                   37.0\n",
       "I_mp_ref                   8.13\n",
       "V_mp_ref                   29.5\n",
       "alpha_sc                   0.04\n",
       "beta_oc                   -0.34\n",
       "T_NOCT                     47.5\n",
       "a_ref                   1.51423\n",
       "I_L_ref                8.766827\n",
       "I_o_ref                     0.0\n",
       "R_s                    0.329448\n",
       "R_sh_ref             422.752747\n",
       "Adjust                 8.786825\n",
       "gamma_r                   -0.46\n",
       "BIPV                          N\n",
       "Version       SAM 2018.11.11 r2\n",
       "Date                   1/3/2019\n",
       "Name: Aleo_Solar_S18y250, dtype: object"
      ]
     },
     "execution_count": 21,
     "metadata": {},
     "output_type": "execute_result"
    }
   ],
   "source": [
    "aleo_s18_240 = sam_cec_mod['Aleo_Solar_S18y250'].copy()\n",
    "aleo_s18_240['STC'] = 240.\n",
    "aleo_s18_240['PTC'] = 215.04\n",
    "aleo_s18_240['V_mp_ref'] = 29.5\n",
    "aleo_s18_240['V_oc_ref'] = 37.0\n",
    "aleo_s18_240['I_mp_ref'] = 8.13\n",
    "aleo_s18_240['I_sc_ref'] = 8.65\n",
    "aleo_s18_240['alpha_sc'] = 0.04\n",
    "aleo_s18_240['beta_oc'] = -0.34\n",
    "aleo_s18_240['gamma_r'] = -0.46\n",
    "aleo_s18_240"
   ]
  },
  {
   "cell_type": "code",
   "execution_count": 24,
   "metadata": {},
   "outputs": [
    {
     "data": {
      "text/plain": [
       "Technology            Mono-c-Si\n",
       "Bifacial                      0\n",
       "STC                       245.0\n",
       "PTC                       220.0\n",
       "A_c                       1.643\n",
       "Length                     1.66\n",
       "Width                      0.99\n",
       "N_s                          60\n",
       "I_sc_ref                   8.48\n",
       "V_oc_ref                   37.1\n",
       "I_mp_ref                   7.84\n",
       "V_mp_ref                   31.3\n",
       "alpha_sc                   0.03\n",
       "beta_oc                   -0.34\n",
       "T_NOCT                     46.5\n",
       "a_ref                  1.543921\n",
       "I_L_ref                9.208019\n",
       "I_o_ref                     0.0\n",
       "R_s                    0.299333\n",
       "R_sh_ref             343.407196\n",
       "Adjust                12.272744\n",
       "gamma_r                   -0.48\n",
       "BIPV                          N\n",
       "Version       SAM 2018.11.11 r2\n",
       "Date                   1/3/2019\n",
       "Name: Aleo_Solar_S19Y270, dtype: object"
      ]
     },
     "execution_count": 24,
     "metadata": {},
     "output_type": "execute_result"
    }
   ],
   "source": [
    "aleo_s19_245 = sam_cec_mod['Aleo_Solar_S19Y270'].copy()\n",
    "aleo_s19_245['STC'] = 245.\n",
    "aleo_s19_245['PTC'] = 220.\n",
    "aleo_s19_245['V_mp_ref'] = 31.3\n",
    "aleo_s19_245['V_oc_ref'] = 37.1\n",
    "aleo_s19_245['I_mp_ref'] = 7.84\n",
    "aleo_s19_245['I_sc_ref'] = 8.48\n",
    "aleo_s19_245['alpha_sc'] = 0.03\n",
    "aleo_s19_245['beta_oc'] = -0.34\n",
    "aleo_s19_245['gamma_r'] = -0.48\n",
    "aleo_s19_245"
   ]
  },
  {
   "cell_type": "code",
   "execution_count": 29,
   "metadata": {},
   "outputs": [
    {
     "data": {
      "text/plain": [
       "Vintage                                                      1999 (E)\n",
       "Area                                                            0.828\n",
       "Material                                                    EFG mc-Si\n",
       "Cells_in_Series                                                    36\n",
       "Parallel_Strings                                                    2\n",
       "Isco                                                              6.4\n",
       "Voco                                                             21.1\n",
       "Impo                                                              5.8\n",
       "Vmpo                                                             17.2\n",
       "Aisc                                                          0.00078\n",
       "Aimp                                                           0.0001\n",
       "C0                                                              0.997\n",
       "C1                                                              0.003\n",
       "Bvoco                                                          -0.076\n",
       "Mbvoc                                                               0\n",
       "Bvmpo                                                          -0.079\n",
       "Mbvmp                                                               0\n",
       "N                                                                1.29\n",
       "C2                                                           0.208062\n",
       "C3                                                           -8.60848\n",
       "A0                                                              0.936\n",
       "A1                                                           0.053645\n",
       "A2                                                           -0.00794\n",
       "A3                                                           0.000522\n",
       "A4                                                          -0.000013\n",
       "B0                                                                  1\n",
       "B1                                                          -0.002438\n",
       "B2                                                            0.00031\n",
       "B3                                                          -0.000012\n",
       "B4                                                                0.0\n",
       "B5                                                               -0.0\n",
       "DTC                                                               3.0\n",
       "FD                                                                  1\n",
       "A                                                               -3.47\n",
       "B                                                             -0.0594\n",
       "C4                                                              0.983\n",
       "C5                                                              0.017\n",
       "IXO                                                              6.32\n",
       "IXXO                                                             4.12\n",
       "C6                                                              1.131\n",
       "C7                                                             -0.131\n",
       "Notes               Source: Sandia National Laboratories Updated 9...\n",
       "Name: Schott_Solar_ASE_100_ATF_17__100___1999__E__, dtype: object"
      ]
     },
     "execution_count": 29,
     "metadata": {},
     "output_type": "execute_result"
    }
   ],
   "source": [
    "schott = sam_sandia_mod['Schott_Solar_ASE_100_ATF_17__100___1999__E__'].copy()\n",
    "schott"
   ]
  },
  {
   "cell_type": "code",
   "execution_count": null,
   "metadata": {},
   "outputs": [],
   "source": [
    "schott = sam_sandia_mod['Schott_Solar_ASE_100_ATF_17__100___1999__E__'].copy()\n",
    "schott['Vmpo'] = 31.1\n",
    "schott['Voco'] = 41.0\n",
    "schott['Imp'] = 3.38\n",
    "schott['Isco'] = 3.98\n"
   ]
  }
 ],
 "metadata": {
  "kernelspec": {
   "display_name": "Python 3",
   "language": "python",
   "name": "python3"
  },
  "language_info": {
   "codemirror_mode": {
    "name": "ipython",
    "version": 3
   },
   "file_extension": ".py",
   "mimetype": "text/x-python",
   "name": "python",
   "nbconvert_exporter": "python",
   "pygments_lexer": "ipython3",
   "version": "3.8.8"
  }
 },
 "nbformat": 4,
 "nbformat_minor": 4
}
